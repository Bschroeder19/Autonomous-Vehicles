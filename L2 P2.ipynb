{
 "cells": [
  {
   "cell_type": "code",
   "execution_count": 1,
   "id": "82df2226",
   "metadata": {},
   "outputs": [],
   "source": [
    "import math\n",
    "import numpy as np"
   ]
  },
  {
   "cell_type": "code",
   "execution_count": 2,
   "id": "de3e59cd",
   "metadata": {},
   "outputs": [],
   "source": [
    "p = [-5,6]\n",
    "w = [3,2]\n",
    "b = 1.2\n",
    "W = np.array(w)\n",
    "P = np.array(p)\n",
    "Q = np.dot(W,P)"
   ]
  },
  {
   "cell_type": "code",
   "execution_count": 4,
   "id": "845e8b13",
   "metadata": {},
   "outputs": [
    {
     "name": "stdout",
     "output_type": "stream",
     "text": [
      "-3\n"
     ]
    }
   ],
   "source": [
    "print(Q)"
   ]
  },
  {
   "cell_type": "code",
   "execution_count": 5,
   "id": "1bf6ca2d",
   "metadata": {},
   "outputs": [],
   "source": [
    "o = Q+b"
   ]
  },
  {
   "cell_type": "code",
   "execution_count": 6,
   "id": "028dcaac",
   "metadata": {},
   "outputs": [
    {
     "name": "stdout",
     "output_type": "stream",
     "text": [
      "-1.8\n"
     ]
    }
   ],
   "source": [
    "print(o)"
   ]
  },
  {
   "cell_type": "code",
   "execution_count": 12,
   "id": "cd042635",
   "metadata": {},
   "outputs": [
    {
     "name": "stdout",
     "output_type": "stream",
     "text": [
      "n = -1\n"
     ]
    }
   ],
   "source": [
    "if (o >= 0):\n",
    "    print(\"n = 1\")\n",
    "else:\n",
    "    print(\"n = -1\")\n",
    "#symmetrical hard limit"
   ]
  },
  {
   "cell_type": "code",
   "execution_count": 16,
   "id": "8724655e",
   "metadata": {},
   "outputs": [
    {
     "name": "stdout",
     "output_type": "stream",
     "text": [
      "n = 0\n"
     ]
    }
   ],
   "source": [
    "if (o > 1):\n",
    "    print(\"n = 1\")\n",
    "if (0 <= o <= 1):\n",
    "    print(\"n = o\")\n",
    "if (o < 0):\n",
    "    print(\"n = 0\")\n",
    "#saturating linear"
   ]
  },
  {
   "cell_type": "code",
   "execution_count": 17,
   "id": "fd30059f",
   "metadata": {},
   "outputs": [],
   "source": [
    "def tanh(o):\n",
    "    t = (np.exp(o)-np.exp(-o))/(np.exp(o)+np.exp(-o))\n",
    "    return t"
   ]
  },
  {
   "cell_type": "code",
   "execution_count": 19,
   "id": "0fc4a464",
   "metadata": {},
   "outputs": [
    {
     "name": "stdout",
     "output_type": "stream",
     "text": [
      "-0.9468060128462682\n"
     ]
    }
   ],
   "source": [
    "print(tanh(o))\n",
    "#hyperbolic tangent simoid"
   ]
  }
 ],
 "metadata": {
  "kernelspec": {
   "display_name": "Python 3",
   "language": "python",
   "name": "python3"
  },
  "language_info": {
   "codemirror_mode": {
    "name": "ipython",
    "version": 3
   },
   "file_extension": ".py",
   "mimetype": "text/x-python",
   "name": "python",
   "nbconvert_exporter": "python",
   "pygments_lexer": "ipython3",
   "version": "3.8.8"
  }
 },
 "nbformat": 4,
 "nbformat_minor": 5
}
