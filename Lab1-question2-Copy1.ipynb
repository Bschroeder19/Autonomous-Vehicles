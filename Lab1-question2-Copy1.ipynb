{
 "cells": [
  {
   "cell_type": "code",
   "execution_count": 1,
   "id": "85fe8d6f",
   "metadata": {},
   "outputs": [],
   "source": [
    "## The lab was completed with all four partners (Jake, Dennis, Mitch and Billy) working on the same \n",
    "# computer with everyone helping, troubleshooting, looking at resources and helping develoup the code."
   ]
  },
  {
   "cell_type": "code",
   "execution_count": 2,
   "id": "972fd518",
   "metadata": {},
   "outputs": [],
   "source": [
    "##Jake Affaneh-uploading the video file and cropping the first image to identify lane lines"
   ]
  },
  {
   "cell_type": "code",
   "execution_count": 3,
   "id": "d756e607",
   "metadata": {},
   "outputs": [],
   "source": [
    "import cv2"
   ]
  },
  {
   "cell_type": "code",
   "execution_count": 4,
   "id": "db743553",
   "metadata": {},
   "outputs": [],
   "source": [
    "import argparse"
   ]
  },
  {
   "cell_type": "code",
   "execution_count": 5,
   "id": "db473b5e",
   "metadata": {},
   "outputs": [],
   "source": [
    "from IPython.display import Video"
   ]
  },
  {
   "cell_type": "code",
   "execution_count": 6,
   "id": "0d66dbcb",
   "metadata": {},
   "outputs": [
    {
     "data": {
      "text/html": [
       "<video src=\"Lab1VideoClip10Sec.mp4\" controls  >\n",
       "      Your browser does not support the <code>video</code> element.\n",
       "    </video>"
      ],
      "text/plain": [
       "<IPython.core.display.Video object>"
      ]
     },
     "execution_count": 6,
     "metadata": {},
     "output_type": "execute_result"
    }
   ],
   "source": [
    "Video(\"Lab1VideoClip10Sec.mp4\")"
   ]
  },
  {
   "cell_type": "code",
   "execution_count": 7,
   "id": "4d89448c",
   "metadata": {},
   "outputs": [],
   "source": [
    "import matplotlib.pylab as plt"
   ]
  },
  {
   "cell_type": "code",
   "execution_count": 8,
   "id": "96131f0e",
   "metadata": {},
   "outputs": [],
   "source": [
    "import cv2"
   ]
  },
  {
   "cell_type": "code",
   "execution_count": 9,
   "id": "1c2e0b8f",
   "metadata": {},
   "outputs": [],
   "source": [
    "import numpy as np"
   ]
  },
  {
   "cell_type": "code",
   "execution_count": 10,
   "id": "6ef8fcc2",
   "metadata": {},
   "outputs": [],
   "source": [
    "#image = cv2.imread(\"ImageLab1.png\")"
   ]
  },
  {
   "cell_type": "code",
   "execution_count": 11,
   "id": "635a092f",
   "metadata": {},
   "outputs": [],
   "source": [
    "#image = cv2.cvtColor(image, cv2.COLOR_BGR2RGB)"
   ]
  },
  {
   "cell_type": "code",
   "execution_count": 12,
   "id": "cbb30563",
   "metadata": {},
   "outputs": [],
   "source": [
    "def process(image):\n",
    "    gray_image = cv2.cvtColor(image, cv2.COLOR_RGB2GRAY)\n",
    "\n",
    "    print(gray_image.shape)\n",
    "    height = image.shape[0]\n",
    "    width = image.shape[1]\n",
    "    region_of_interest_vertices = [\n",
    "    (500, 1000),\n",
    "    (500, 750),\n",
    "    (1200, 740),\n",
    "    (1500, 1000)\n",
    "    ]\n",
    "    canny_image = cv2.Canny(gray_image, 15, 50)\n",
    "    plt.imshow(canny_image)\n",
    "    cropped_image = region_of_interest(canny_image,\n",
    "                                  np.array([region_of_interest_vertices],np.int32))\n",
    "    print(cropped_image.shape)\n",
    "    lines = cv2.HoughLinesP(cropped_image,\n",
    "                       rho=6,\n",
    "                       theta=np.pi/60,\n",
    "                       threshold=160,\n",
    "                       lines=np.array([]),\n",
    "                       minLineLength=40,\n",
    "                       maxLineGap=25)\n",
    "    image_with_lines = drow_the_lines(image, lines) \n",
    "    return canny_image\n",
    "    "
   ]
  },
  {
   "cell_type": "code",
   "execution_count": 13,
   "id": "e8ed083b",
   "metadata": {},
   "outputs": [],
   "source": [
    "## Mitch Reberg worked on troubleshooting this cell, also working on the \"threshold values\" that went \n",
    "# along with the canny image so that the detection would be more visible and pick up less unwanted lines."
   ]
  },
  {
   "cell_type": "code",
   "execution_count": 14,
   "id": "05cf026c",
   "metadata": {},
   "outputs": [],
   "source": [
    "cap = cv2.VideoCapture('Lab1VideoClip10Sec.mp4')"
   ]
  },
  {
   "cell_type": "code",
   "execution_count": 15,
   "id": "b81fec2e",
   "metadata": {},
   "outputs": [
    {
     "data": {
      "text/plain": [
       "True"
      ]
     },
     "execution_count": 15,
     "metadata": {},
     "output_type": "execute_result"
    }
   ],
   "source": [
    "cap.isOpened()"
   ]
  },
  {
   "cell_type": "code",
   "execution_count": 16,
   "id": "28bacad4",
   "metadata": {},
   "outputs": [
    {
     "name": "stdout",
     "output_type": "stream",
     "text": [
      "(376, 672)\n"
     ]
    },
    {
     "ename": "NameError",
     "evalue": "name 'region_of_interest' is not defined",
     "output_type": "error",
     "traceback": [
      "\u001b[0;31m---------------------------------------------------------------------------\u001b[0m",
      "\u001b[0;31mNameError\u001b[0m                                 Traceback (most recent call last)",
      "\u001b[0;32m<ipython-input-16-8ad61b7d7058>\u001b[0m in \u001b[0;36m<module>\u001b[0;34m\u001b[0m\n\u001b[1;32m      1\u001b[0m \u001b[0;32mwhile\u001b[0m\u001b[0;34m(\u001b[0m\u001b[0mcap\u001b[0m\u001b[0;34m.\u001b[0m\u001b[0misOpened\u001b[0m\u001b[0;34m(\u001b[0m\u001b[0;34m)\u001b[0m\u001b[0;34m)\u001b[0m\u001b[0;34m:\u001b[0m\u001b[0;34m\u001b[0m\u001b[0;34m\u001b[0m\u001b[0m\n\u001b[1;32m      2\u001b[0m     \u001b[0mret\u001b[0m\u001b[0;34m,\u001b[0m \u001b[0mframe\u001b[0m \u001b[0;34m=\u001b[0m \u001b[0mcap\u001b[0m\u001b[0;34m.\u001b[0m\u001b[0mread\u001b[0m\u001b[0;34m(\u001b[0m\u001b[0;34m)\u001b[0m\u001b[0;34m\u001b[0m\u001b[0;34m\u001b[0m\u001b[0m\n\u001b[0;32m----> 3\u001b[0;31m     \u001b[0mframe\u001b[0m \u001b[0;34m=\u001b[0m \u001b[0mprocess\u001b[0m\u001b[0;34m(\u001b[0m\u001b[0mframe\u001b[0m\u001b[0;34m)\u001b[0m\u001b[0;34m\u001b[0m\u001b[0;34m\u001b[0m\u001b[0m\n\u001b[0m\u001b[1;32m      4\u001b[0m     \u001b[0mcv2\u001b[0m\u001b[0;34m.\u001b[0m\u001b[0mimshow\u001b[0m\u001b[0;34m(\u001b[0m\u001b[0;34m'frame'\u001b[0m\u001b[0;34m,\u001b[0m \u001b[0mframe\u001b[0m\u001b[0;34m)\u001b[0m\u001b[0;34m\u001b[0m\u001b[0;34m\u001b[0m\u001b[0m\n\u001b[1;32m      5\u001b[0m     \u001b[0;32mif\u001b[0m \u001b[0mcv2\u001b[0m\u001b[0;34m.\u001b[0m\u001b[0mwaitKey\u001b[0m\u001b[0;34m(\u001b[0m\u001b[0;36m30\u001b[0m\u001b[0;34m)\u001b[0m \u001b[0;34m&\u001b[0m \u001b[0;36m0xFF\u001b[0m \u001b[0;34m==\u001b[0m \u001b[0mord\u001b[0m\u001b[0;34m(\u001b[0m\u001b[0;34m'q'\u001b[0m\u001b[0;34m)\u001b[0m\u001b[0;34m:\u001b[0m\u001b[0;34m\u001b[0m\u001b[0;34m\u001b[0m\u001b[0m\n",
      "\u001b[0;32m<ipython-input-12-272b85c982a9>\u001b[0m in \u001b[0;36mprocess\u001b[0;34m(image)\u001b[0m\n\u001b[1;32m     13\u001b[0m     \u001b[0mcanny_image\u001b[0m \u001b[0;34m=\u001b[0m \u001b[0mcv2\u001b[0m\u001b[0;34m.\u001b[0m\u001b[0mCanny\u001b[0m\u001b[0;34m(\u001b[0m\u001b[0mgray_image\u001b[0m\u001b[0;34m,\u001b[0m \u001b[0;36m15\u001b[0m\u001b[0;34m,\u001b[0m \u001b[0;36m50\u001b[0m\u001b[0;34m)\u001b[0m\u001b[0;34m\u001b[0m\u001b[0;34m\u001b[0m\u001b[0m\n\u001b[1;32m     14\u001b[0m     \u001b[0mplt\u001b[0m\u001b[0;34m.\u001b[0m\u001b[0mimshow\u001b[0m\u001b[0;34m(\u001b[0m\u001b[0mcanny_image\u001b[0m\u001b[0;34m)\u001b[0m\u001b[0;34m\u001b[0m\u001b[0;34m\u001b[0m\u001b[0m\n\u001b[0;32m---> 15\u001b[0;31m     cropped_image = region_of_interest(canny_image,\n\u001b[0m\u001b[1;32m     16\u001b[0m                                   np.array([region_of_interest_vertices],np.int32))\n\u001b[1;32m     17\u001b[0m     \u001b[0mprint\u001b[0m\u001b[0;34m(\u001b[0m\u001b[0mcropped_image\u001b[0m\u001b[0;34m.\u001b[0m\u001b[0mshape\u001b[0m\u001b[0;34m)\u001b[0m\u001b[0;34m\u001b[0m\u001b[0;34m\u001b[0m\u001b[0m\n",
      "\u001b[0;31mNameError\u001b[0m: name 'region_of_interest' is not defined"
     ]
    },
    {
     "data": {
      "image/png": "[encoded data removed]",
      "text/plain": [
       "<Figure size 432x288 with 1 Axes>"
      ]
     },
     "metadata": {
      "needs_background": "light"
     },
     "output_type": "display_data"
    }
   ],
   "source": [
    "while(cap.isOpened()):\n",
    "    ret, frame = cap.read()\n",
    "    frame = process(frame)\n",
    "    cv2.imshow('frame', frame)\n",
    "    if cv2.waitKey(30) & 0xFF == ord('q'):\n",
    "        continue\n",
    "\n",
    "#Dennis made while loop to make arrays 2x2 arrays from each picture frame\n",
    "#of the video"
   ]
  },
  {
   "cell_type": "code",
   "execution_count": null,
   "id": "503a049d",
   "metadata": {},
   "outputs": [],
   "source": [
    "cap.release()"
   ]
  },
  {
   "cell_type": "code",
   "execution_count": null,
   "id": "3cfdebce",
   "metadata": {},
   "outputs": [],
   "source": [
    "cv2.destroyAllWindows()"
   ]
  },
  {
   "cell_type": "code",
   "execution_count": null,
   "id": "baee5e50",
   "metadata": {},
   "outputs": [],
   "source": [
    "gray_image = cv2.cvtColor(image, cv2.COLOR_RGB2GRAY)\n",
    "#Dennis used grayscale filter used to make video more black and white for \n",
    "#lane line detection"
   ]
  },
  {
   "cell_type": "code",
   "execution_count": null,
   "id": "f20039d1",
   "metadata": {},
   "outputs": [],
   "source": [
    "def show_with_matplotlib(color_img, title, pos): \"\"\"Shows an image using matplotlib capabilities\"\"\""
   ]
  },
  {
   "cell_type": "code",
   "execution_count": null,
   "id": "998837af",
   "metadata": {},
   "outputs": [],
   "source": [
    "plt.imshow(gray_image, cmap='gray')"
   ]
  },
  {
   "cell_type": "code",
   "execution_count": null,
   "id": "e29c69f0",
   "metadata": {},
   "outputs": [],
   "source": [
    "plt.figure(figsize=(12, 6))\n",
    "plt.suptitle(\"Comparing different kernels using cv2.filter2D()\", fontsize=14, fontweight='bold')\n"
   ]
  },
  {
   "cell_type": "code",
   "execution_count": null,
   "id": "5f08b519",
   "metadata": {},
   "outputs": [],
   "source": [
    "def drow_the_lines(img, lines):\n",
    "    img = np.copy(img)\n",
    "    blank_image = np.zeros((img.shape[0], img.shape[1], 3), dtype=np.uint8)\n",
    "    if type(None) == type(lines):\n",
    "        return img\n",
    "    else:\n",
    "        for line in lines:\n",
    "            for x1, y1, x2, y2 in line:\n",
    "                cv2.line(blank_image, (x1,y1), (x2,y2), (0,255, 0), thickness=3)\n",
    "            \n",
    "        img = cv2.addWeighted(img, 0.8, blank_image, 1, 0.0)\n",
    "        return img\n"
   ]
  },
  {
   "cell_type": "code",
   "execution_count": null,
   "id": "0463539b",
   "metadata": {},
   "outputs": [],
   "source": [
    "print(gray_image.shape)"
   ]
  },
  {
   "cell_type": "code",
   "execution_count": null,
   "id": "9ff44376",
   "metadata": {},
   "outputs": [],
   "source": [
    "height = image.shape[0]"
   ]
  },
  {
   "cell_type": "code",
   "execution_count": null,
   "id": "14b50b7e",
   "metadata": {},
   "outputs": [],
   "source": [
    "width = image.shape[1]"
   ]
  },
  {
   "cell_type": "code",
   "execution_count": null,
   "id": "8d07e965",
   "metadata": {},
   "outputs": [],
   "source": [
    "region_of_interest_vertices = [\n",
    "    (500, 1000),\n",
    "    (500, 750),\n",
    "    (1200, 740),\n",
    "    (1500, 1000)\n",
    "]"
   ]
  },
  {
   "cell_type": "code",
   "execution_count": null,
   "id": "05d52fe3",
   "metadata": {},
   "outputs": [],
   "source": [
    "#Bill helped crop the image to help minimize the lines being detected in the frame"
   ]
  },
  {
   "cell_type": "code",
   "execution_count": null,
   "id": "00fe54ba",
   "metadata": {},
   "outputs": [],
   "source": [
    "def region_of_interest(img, vertices):\n",
    "    plt.imshow(img)\n",
    "    mask = np.zeros_like(img)\n",
    "    #channel_count = img.shape[2]\n",
    "    match_mask_color = 255\n",
    "    mask = cv2.fillPoly(mask, vertices, match_mask_color)\n",
    "    #plt.imshow(mask)\n",
    "    masked_image = cv2.bitwise_and(img, mask)\n",
    "    #plt.imshow(masked_image)\n",
    "    return masked_image"
   ]
  },
  {
   "cell_type": "code",
   "execution_count": null,
   "id": "1dc31921",
   "metadata": {},
   "outputs": [],
   "source": [
    "#Bill helped troubleshoot this cell to figure out lane detection image"
   ]
  },
  {
   "cell_type": "code",
   "execution_count": null,
   "id": "6246de0a",
   "metadata": {},
   "outputs": [],
   "source": [
    "canny_image = cv2.Canny(gray_image, 15, 50)\n",
    "plt.imshow(canny_image)"
   ]
  },
  {
   "cell_type": "code",
   "execution_count": null,
   "id": "6974f90e",
   "metadata": {},
   "outputs": [],
   "source": [
    "cropped_image = region_of_interest(canny_image,\n",
    "                                  np.array([region_of_interest_vertices],np.int32))\n",
    "plt.imshow(cropped_image)"
   ]
  },
  {
   "cell_type": "code",
   "execution_count": null,
   "id": "f1856307",
   "metadata": {},
   "outputs": [],
   "source": [
    "print(cropped_image.shape)\n",
    "lines = cv2.HoughLinesP(cropped_image,\n",
    "                       rho=6,\n",
    "                       theta=np.pi/60,\n",
    "                       threshold=160,\n",
    "                       lines=np.array([]),\n",
    "                       minLineLength=40,\n",
    "                       maxLineGap=25)"
   ]
  },
  {
   "cell_type": "code",
   "execution_count": null,
   "id": "96ead45f",
   "metadata": {},
   "outputs": [],
   "source": [
    "image_with_lines = drow_the_lines(image, lines)"
   ]
  },
  {
   "cell_type": "code",
   "execution_count": null,
   "id": "da3cfb5f",
   "metadata": {},
   "outputs": [],
   "source": [
    "plt.imshow(image_with_lines)"
   ]
  },
  {
   "cell_type": "code",
   "execution_count": null,
   "id": "9aaa711e",
   "metadata": {},
   "outputs": [],
   "source": [
    "plt.imshow(cropped_image)"
   ]
  },
  {
   "cell_type": "code",
   "execution_count": null,
   "id": "c9b8e074",
   "metadata": {},
   "outputs": [],
   "source": [
    "#cropped_image = region_of_interest(sobel_y_image,\n",
    "                                 # np.array([region_of_interest_vertices],np.int32))"
   ]
  }
 ],
 "metadata": {
  "kernelspec": {
   "display_name": "Python 3",
   "language": "python",
   "name": "python3"
  },
  "language_info": {
   "codemirror_mode": {
    "name": "ipython",
    "version": 3
   },
   "file_extension": ".py",
   "mimetype": "text/x-python",
   "name": "python",
   "nbconvert_exporter": "python",
   "pygments_lexer": "ipython3",
   "version": "3.8.8"
  }
 },
 "nbformat": 4,
 "nbformat_minor": 5
}
