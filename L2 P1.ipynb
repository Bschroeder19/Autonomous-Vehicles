{
 "cells": [
  {
   "cell_type": "code",
   "execution_count": 1,
   "id": "835d835e",
   "metadata": {},
   "outputs": [],
   "source": [
    "n=2\n",
    "w=2.3\n",
    "b=-3\n",
    "d=w*n+b"
   ]
  },
  {
   "cell_type": "code",
   "execution_count": 2,
   "id": "b5724fd6",
   "metadata": {},
   "outputs": [
    {
     "data": {
      "text/plain": [
       "1.5999999999999996"
      ]
     },
     "execution_count": 2,
     "metadata": {},
     "output_type": "execute_result"
    }
   ],
   "source": [
    "d\n",
    "#linear output"
   ]
  },
  {
   "cell_type": "code",
   "execution_count": 3,
   "id": "ffcfbf77",
   "metadata": {},
   "outputs": [],
   "source": [
    "import math\n",
    "import numpy as np"
   ]
  },
  {
   "cell_type": "code",
   "execution_count": 4,
   "id": "f9fc1c61",
   "metadata": {},
   "outputs": [
    {
     "name": "stdout",
     "output_type": "stream",
     "text": [
      "1.5999999999999996\n"
     ]
    }
   ],
   "source": [
    "print(d)"
   ]
  },
  {
   "cell_type": "code",
   "execution_count": 5,
   "id": "b8f57ff8",
   "metadata": {},
   "outputs": [
    {
     "name": "stdout",
     "output_type": "stream",
     "text": [
      "n=1\n"
     ]
    }
   ],
   "source": [
    "if (d >= 1):\n",
    "    print(\"n=1\")\n",
    "else:\n",
    "    print(\"n=0\")\n",
    "#hard limit output"
   ]
  },
  {
   "cell_type": "code",
   "execution_count": 6,
   "id": "8e43534b",
   "metadata": {},
   "outputs": [
    {
     "name": "stdout",
     "output_type": "stream",
     "text": [
      "0.8320183851339245\n"
     ]
    }
   ],
   "source": [
    "def sigmoid(x):\n",
    "    return 1 / (1 + math.exp(-x))\n",
    "\n",
    "print(sigmoid(d))\n",
    "#log-sigmoid output"
   ]
  }
 ],
 "metadata": {
  "kernelspec": {
   "display_name": "Python 3",
   "language": "python",
   "name": "python3"
  },
  "language_info": {
   "codemirror_mode": {
    "name": "ipython",
    "version": 3
   },
   "file_extension": ".py",
   "mimetype": "text/x-python",
   "name": "python",
   "nbconvert_exporter": "python",
   "pygments_lexer": "ipython3",
   "version": "3.8.8"
  }
 },
 "nbformat": 4,
 "nbformat_minor": 5
}
