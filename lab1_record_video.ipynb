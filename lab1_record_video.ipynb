{
 "cells": [
  {
   "cell_type": "markdown",
   "id": "29fab284",
   "metadata": {},
   "source": [
    "### Import OpenCV"
   ]
  },
  {
   "cell_type": "code",
   "execution_count": 21,
   "id": "cff8029b",
   "metadata": {},
   "outputs": [],
   "source": [
    "import cv2"
   ]
  },
  {
   "cell_type": "markdown",
   "id": "25a0d847",
   "metadata": {},
   "source": [
    "### Assign global variable to store the recording state"
   ]
  },
  {
   "cell_type": "code",
   "execution_count": 22,
   "id": "f5034904",
   "metadata": {},
   "outputs": [],
   "source": [
    "RECORD_FLAG = False"
   ]
  },
  {
   "cell_type": "markdown",
   "id": "500bc634",
   "metadata": {},
   "source": [
    "### Setup camera-python interface"
   ]
  },
  {
   "cell_type": "code",
   "execution_count": 23,
   "id": "ea2c4424",
   "metadata": {},
   "outputs": [],
   "source": [
    "# Setup video capture. Change `2` to `0` if you want to display your webcam\n",
    "cap = cv2.VideoCapture(2)\n",
    "\n",
    "# Check whether user selected camera is opened successfully.\n",
    "if not (cap.isOpened()):\n",
    "    print('Could not open video device')"
   ]
  },
  {
   "cell_type": "markdown",
   "id": "69d0ed31",
   "metadata": {},
   "source": [
    "### Setup the video writer used to record video"
   ]
  },
  {
   "cell_type": "code",
   "execution_count": 24,
   "id": "7e859abf",
   "metadata": {},
   "outputs": [],
   "source": [
    "# Get height & width of camera frames\n",
    "width= int(cap.get(cv2.CAP_PROP_FRAME_WIDTH))\n",
    "height= int(cap.get(cv2.CAP_PROP_FRAME_HEIGHT))\n",
    "\n",
    "# Setup video file writer\n",
    "writer = cv2.VideoWriter('basicvideo.avi', cv2.VideoWriter_fourcc(*'MJPG'), 20, (int(width/2),height))"
   ]
  },
  {
   "cell_type": "markdown",
   "id": "5f151e83",
   "metadata": {},
   "source": [
    "### Run the loop\n",
    "\n",
    "For each frame\n",
    "\n",
    "1. Read the latest frame from the video capture object, `cap`.\n",
    "2. Split the frame into left and right frames. (TIP: replace `left_img` with `frame` in line 16 to see the original image)\n",
    "3. Check if `RECORD_FLAG` has been assigned a True value\n",
    "4. Show left & right images in two different windows\n",
    "5. Wait for user input to either quit (`q`) or begin recording (`r`)"
   ]
  },
  {
   "cell_type": "code",
   "execution_count": 25,
   "id": "77f0d8bf",
   "metadata": {},
   "outputs": [
    {
     "name": "stdout",
     "output_type": "stream",
     "text": [
      "Closing ...\n",
      "Done.\n"
     ]
    }
   ],
   "source": [
    "while(True): \n",
    "    # Capture frame-by-frame\n",
    "    ret, frame = cap.read()\n",
    "\n",
    "    # Split image into left and right images\n",
    "    left_img = frame[:, 0:int(width/2), :]\n",
    "    right_img = frame[:, int(width/2):width, :]\n",
    "\n",
    "    # If 'r' has been hit, record left frames\n",
    "    if RECORD_FLAG: \n",
    "        writer.write(left_img)\n",
    "\n",
    "    # Display the resulting frame\n",
    "    cv2.imshow('Left',left_img)\n",
    "    cv2.imshow('Right',right_img)\n",
    "\n",
    "    # Waits for a user input to quit the application or begin/stop recording\n",
    "    key = cv2.waitKey(1) & 0xFF\n",
    "    if key == ord('q'):\n",
    "        print(\"Closing ...\")\n",
    "        break\n",
    "    if key == ord('r'):\n",
    "        if RECORD_FLAG:\n",
    "            print(\"Stopped recording ...\")\n",
    "            RECORD_FLAG = False\n",
    "        else:\n",
    "            print(\"Started recording left camera frames ...\")\n",
    "            RECORD_FLAG = True\n",
    "\n",
    "# When everything is done, release the capture & close all windows\n",
    "cap.release()\n",
    "\n",
    "cv2.destroyAllWindows()\n",
    "\n",
    "print(\"Done.\")"
   ]
  }
 ],
 "metadata": {
  "kernelspec": {
   "display_name": "Python 3",
   "language": "python",
   "name": "python3"
  },
  "language_info": {
   "codemirror_mode": {
    "name": "ipython",
    "version": 3
   },
   "file_extension": ".py",
   "mimetype": "text/x-python",
   "name": "python",
   "nbconvert_exporter": "python",
   "pygments_lexer": "ipython3",
   "version": "3.8.10"
  }
 },
 "nbformat": 4,
 "nbformat_minor": 5
}
